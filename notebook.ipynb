{
 "cells": [
  {
   "cell_type": "markdown",
   "id": "d942d895-3f76-4378-8b53-15f4d0a3593b",
   "metadata": {},
   "source": [
    "# Proyek Analisis Data: [Bike Sharing Dataset]\n",
    "- **Nama:** [Ferdita Lusiana]\n",
    "- **Email:** [lusianaferdita@gmail.com]\n",
    "- **ID Dicoding:** [MC796D5X0115]"
   ]
  },
  {
   "cell_type": "markdown",
   "id": "f2cb59a3-9fb0-4df3-95a8-ce916844466e",
   "metadata": {},
   "source": [
    "# Menentukan Pertanyaan Bisnis"
   ]
  },
  {
   "cell_type": "markdown",
   "id": "11af2a53-bdb8-4641-b2e8-a84c689be944",
   "metadata": {},
   "source": [
    "- Kapan waktu dengan jumlah peminjaman sepeda tertinggi dan terendah dalam sehari?\n",
    "- Bagaimana perbedaan peminjaman antara pengguna kasual dan pengguna terdaftar?"
   ]
  },
  {
   "cell_type": "markdown",
   "id": "0d169fd9-2487-42cd-944f-7e6b66a7fc7f",
   "metadata": {},
   "source": [
    "# Import Packages/Library yang digunakan "
   ]
  },
  {
   "cell_type": "code",
   "execution_count": 139,
   "id": "76579bd6-436b-4855-96fc-3afb6dbf494b",
   "metadata": {},
   "outputs": [],
   "source": [
    "import numpy as np\n",
    "import pandas as pd\n",
    "import matplotlib.pyplot as plt\n",
    "import seaborn as sns"
   ]
  },
  {
   "cell_type": "markdown",
   "id": "f920c8ff-6f77-4b6d-9394-4806e00d9a5f",
   "metadata": {},
   "source": [
    "# Data Wrangling"
   ]
  },
  {
   "cell_type": "code",
   "execution_count": 142,
   "id": "d1e4eee4-63d9-43b2-9bdc-b2e4a656f1b0",
   "metadata": {},
   "outputs": [],
   "source": [
    "# Gathering Data: Load Dataset\n",
    "df = pd.read_csv(\"data/hour.csv\")"
   ]
  },
  {
   "cell_type": "markdown",
   "id": "01452a57-a746-42ef-93dd-bf3d0b419c01",
   "metadata": {},
   "source": [
    "**Insight:**\n",
    "- Strategi promosi bisa difokuskan pada jam sibuk untuk meningkatkan keterlibatan pengguna.\n",
    "- Penyedia layanan bisa menyesuaikan jumlah sepeda yang tersedia di jam sibuk untuk memenuhi permintaan tinggi."
   ]
  },
  {
   "cell_type": "code",
   "execution_count": 145,
   "id": "d82b9d41-3b22-4b78-bb9a-6601da7bc54f",
   "metadata": {
    "scrolled": true
   },
   "outputs": [
    {
     "name": "stdout",
     "output_type": "stream",
     "text": [
      "\n",
      "Info Dataset:\n",
      "\n",
      "<class 'pandas.core.frame.DataFrame'>\n",
      "RangeIndex: 17379 entries, 0 to 17378\n",
      "Data columns (total 17 columns):\n",
      " #   Column      Non-Null Count  Dtype  \n",
      "---  ------      --------------  -----  \n",
      " 0   instant     17379 non-null  int64  \n",
      " 1   dteday      17379 non-null  object \n",
      " 2   season      17379 non-null  int64  \n",
      " 3   yr          17379 non-null  int64  \n",
      " 4   mnth        17379 non-null  int64  \n",
      " 5   hr          17379 non-null  int64  \n",
      " 6   holiday     17379 non-null  int64  \n",
      " 7   weekday     17379 non-null  int64  \n",
      " 8   workingday  17379 non-null  int64  \n",
      " 9   weathersit  17379 non-null  int64  \n",
      " 10  temp        17379 non-null  float64\n",
      " 11  atemp       17379 non-null  float64\n",
      " 12  hum         17379 non-null  float64\n",
      " 13  windspeed   17379 non-null  float64\n",
      " 14  casual      17379 non-null  int64  \n",
      " 15  registered  17379 non-null  int64  \n",
      " 16  cnt         17379 non-null  int64  \n",
      "dtypes: float64(4), int64(12), object(1)\n",
      "memory usage: 2.3+ MB\n",
      "\n",
      "Preview Data:\n",
      "    instant      dteday  season  yr  mnth  hr  holiday  weekday  workingday  \\\n",
      "0        1  2011-01-01       1   0     1   0        0        6           0   \n",
      "1        2  2011-01-01       1   0     1   1        0        6           0   \n",
      "2        3  2011-01-01       1   0     1   2        0        6           0   \n",
      "3        4  2011-01-01       1   0     1   3        0        6           0   \n",
      "4        5  2011-01-01       1   0     1   4        0        6           0   \n",
      "\n",
      "   weathersit  temp   atemp   hum  windspeed  casual  registered  cnt  \n",
      "0           1  0.24  0.2879  0.81        0.0       3          13   16  \n",
      "1           1  0.22  0.2727  0.80        0.0       8          32   40  \n",
      "2           1  0.22  0.2727  0.80        0.0       5          27   32  \n",
      "3           1  0.24  0.2879  0.75        0.0       3          10   13  \n",
      "4           1  0.24  0.2879  0.75        0.0       0           1    1  \n",
      "\n",
      "Unique values in season: [1 2 3 4]\n",
      "\n",
      "Unique values in holiday: [0 1]\n",
      "\n",
      "Unique values in weekday: [6 0 1 2 3 4 5]\n",
      "\n",
      "Unique values in workingday: [0 1]\n",
      "\n",
      "Unique values in weathersit: [1 2 3 4]\n",
      "\n",
      "Unique values in mnth: [ 1  2  3  4  5  6  7  8  9 10 11 12]\n",
      "\n",
      "Unique values in yr: [0 1]\n"
     ]
    }
   ],
   "source": [
    "# Assessing Data: Memeriksa struktur data\n",
    "print(\"\\nInfo Dataset:\\n\")\n",
    "df.info()\n",
    "print(\"\\nPreview Data:\\n\", df.head())\n",
    "\n",
    "# Cek nilai unik untuk kolom kategori\n",
    "for col in ['season', 'holiday', 'weekday', 'workingday', 'weathersit', 'mnth', 'yr']:\n",
    "    print(f\"\\nUnique values in {col}: {df[col].unique()}\")"
   ]
  },
  {
   "cell_type": "markdown",
   "id": "fc609439-e17a-4ccb-b384-b44f701a69df",
   "metadata": {},
   "source": [
    "**Insight:**\n",
    "- Penyedia layanan dapat menyesuaikan jumlah sepeda berdasarkan jam sibuk.\n",
    "- Bisa dibuat kebijakan harga lebih murah di luar jam sibuk untuk meratakan penggunaan."
   ]
  },
  {
   "cell_type": "code",
   "execution_count": 148,
   "id": "aeb26ddf-18a1-4176-b0ad-ee33cc2ba7a4",
   "metadata": {},
   "outputs": [],
   "source": [
    "# Data Cleaning: Mengubah tipe data yang sesuai\n",
    "df['dteday'] = pd.to_datetime(df['dteday'])  # Ubah ke datetime\n",
    "categorical_columns = ['season', 'holiday', 'weekday', 'workingday', 'weathersit', 'mnth', 'yr']\n",
    "df[categorical_columns] = df[categorical_columns].astype('category')"
   ]
  },
  {
   "cell_type": "code",
   "execution_count": 150,
   "id": "0f7d00cf-a437-43a0-a769-592e3396c547",
   "metadata": {},
   "outputs": [
    {
     "name": "stdout",
     "output_type": "stream",
     "text": [
      "\n",
      "Missing Values:\n",
      " instant       0\n",
      "dteday        0\n",
      "season        0\n",
      "yr            0\n",
      "mnth          0\n",
      "hr            0\n",
      "holiday       0\n",
      "weekday       0\n",
      "workingday    0\n",
      "weathersit    0\n",
      "temp          0\n",
      "atemp         0\n",
      "hum           0\n",
      "windspeed     0\n",
      "casual        0\n",
      "registered    0\n",
      "cnt           0\n",
      "dtype: int64\n",
      "\n",
      "Jumlah Data Duplikat: 0\n"
     ]
    }
   ],
   "source": [
    "# Cek Missing Values & Duplikasi\n",
    "print(\"\\nMissing Values:\\n\", df.isnull().sum())\n",
    "print(\"\\nJumlah Data Duplikat:\", df.duplicated().sum())"
   ]
  },
  {
   "cell_type": "markdown",
   "id": "c2db702a-8130-48d5-8626-57dc6b511532",
   "metadata": {},
   "source": [
    "# Insight\n",
    "- Semua kolom dalam dataset hour.csv memiliki jumlah data yang lengkap (tidak ada nilai yang hilang).\n",
    "- Ini menunjukkan bahwa dataset sudah cukup baik dalam kualitas data dan tidak memerlukan imputasi data."
   ]
  },
  {
   "cell_type": "markdown",
   "id": "e0829b97-0695-4d23-9b2c-597b122a0f1e",
   "metadata": {},
   "source": [
    "# Exploratory Data Analysis (EDA)"
   ]
  },
  {
   "cell_type": "code",
   "execution_count": 154,
   "id": "3bdbf909-019e-4e0e-8ac4-4ac41a83d4ff",
   "metadata": {},
   "outputs": [
    {
     "name": "stdout",
     "output_type": "stream",
     "text": [
      "\n",
      "Summary Statistics:\n",
      "           instant                         dteday            hr          temp  \\\n",
      "count  17379.0000                          17379  17379.000000  17379.000000   \n",
      "mean    8690.0000  2012-01-02 04:08:34.552045568     11.546752      0.496987   \n",
      "min        1.0000            2011-01-01 00:00:00      0.000000      0.020000   \n",
      "25%     4345.5000            2011-07-04 00:00:00      6.000000      0.340000   \n",
      "50%     8690.0000            2012-01-02 00:00:00     12.000000      0.500000   \n",
      "75%    13034.5000            2012-07-02 00:00:00     18.000000      0.660000   \n",
      "max    17379.0000            2012-12-31 00:00:00     23.000000      1.000000   \n",
      "std     5017.0295                            NaN      6.914405      0.192556   \n",
      "\n",
      "              atemp           hum     windspeed        casual    registered  \\\n",
      "count  17379.000000  17379.000000  17379.000000  17379.000000  17379.000000   \n",
      "mean       0.475775      0.627229      0.190098     35.676218    153.786869   \n",
      "min        0.000000      0.000000      0.000000      0.000000      0.000000   \n",
      "25%        0.333300      0.480000      0.104500      4.000000     34.000000   \n",
      "50%        0.484800      0.630000      0.194000     17.000000    115.000000   \n",
      "75%        0.621200      0.780000      0.253700     48.000000    220.000000   \n",
      "max        1.000000      1.000000      0.850700    367.000000    886.000000   \n",
      "std        0.171850      0.192930      0.122340     49.305030    151.357286   \n",
      "\n",
      "                cnt  \n",
      "count  17379.000000  \n",
      "mean     189.463088  \n",
      "min        1.000000  \n",
      "25%       40.000000  \n",
      "50%      142.000000  \n",
      "75%      281.000000  \n",
      "max      977.000000  \n",
      "std      181.387599  \n"
     ]
    }
   ],
   "source": [
    "print(\"\\nSummary Statistics:\\n\", df.describe())"
   ]
  },
  {
   "cell_type": "markdown",
   "id": "ce3b1625-6bc5-4caa-a0e5-f505f1ec36fe",
   "metadata": {},
   "source": [
    "# Insight\n",
    "- Faktor cuaca seperti suhu, kelembaban, dan kecepatan angin mungkin memengaruhi jumlah peminjaman sepeda.\n",
    "- Terdapat perbedaan pola peminjaman berdasarkan jam, hari, dan musim, perlu visualisasi lebih lanjut untuk mengonfirmasi tren ini."
   ]
  },
  {
   "cell_type": "markdown",
   "id": "52a994c8-7f08-4dba-bb5b-dc464b215cb1",
   "metadata": {},
   "source": [
    "# Visualization & Explanatory Analysis"
   ]
  },
  {
   "cell_type": "code",
   "execution_count": 160,
   "id": "d0391a40-b12d-4c41-8302-25565b7323f3",
   "metadata": {},
   "outputs": [
    {
     "data": {
      "image/png": "[encoded data removed]",
      "text/plain": [
       "<Figure size 1000x500 with 1 Axes>"
      ]
     },
     "metadata": {},
     "output_type": "display_data"
    }
   ],
   "source": [
    "# Visualisasi: Tren Peminjaman Sepeda Per Jam\n",
    "hourly_trend = df.groupby('hr')['cnt'].mean().reset_index()\n",
    "plt.figure(figsize=(10, 5))\n",
    "sns.lineplot(x='hr', y='cnt', data=hourly_trend, marker='o', color='b')\n",
    "plt.xticks(range(0, 24))\n",
    "plt.xlabel(\"Jam dalam Sehari\")\n",
    "plt.ylabel(\"Rata-rata Jumlah Peminjaman\")\n",
    "plt.title(\"Tren Peminjaman Sepeda Per Jam\")\n",
    "plt.grid(True)\n",
    "plt.show()"
   ]
  },
  {
   "cell_type": "markdown",
   "id": "8e90008a-6c34-491d-892c-e9a2f96b4a9b",
   "metadata": {},
   "source": [
    "# Insight\n",
    "- Sistem perawatan atau pemeliharaan sepeda sebaiknya dilakukan pada jam 0-5, ketika peminjaman paling rendah.\n",
    "- Pola ini mendukung hipotesis bahwa bike-sharing digunakan untuk komuter (perjalanan kerja/sekolah)."
   ]
  },
  {
   "cell_type": "code",
   "execution_count": 171,
   "id": "c0119c02-213a-4854-918f-ec6486fc4c10",
   "metadata": {},
   "outputs": [
    {
     "data": {
      "image/png": "[encoded data removed]",
      "text/plain": [
       "<Figure size 800x500 with 1 Axes>"
      ]
     },
     "metadata": {},
     "output_type": "display_data"
    }
   ],
   "source": [
    "# Perbandingan Peminjaman: Casual vs Registered\n",
    "user_type = df[['casual', 'registered']].sum()\n",
    "plt.figure(figsize=(8, 5))\n",
    "sns.barplot(x=user_type.index, y=user_type.values, palette=['red', 'blue'])\n",
    "plt.xlabel(\"Jenis Pengguna\")\n",
    "plt.ylabel(\"Total Peminjaman\")\n",
    "plt.title(\"Perbandingan Peminjaman: Casual vs Registered\")\n",
    "plt.show()"
   ]
  },
  {
   "cell_type": "markdown",
   "id": "85690ab2-3268-46da-b4bd-ec21200036dc",
   "metadata": {},
   "source": [
    "# Insight\n",
    "- Pengguna terdaftar (registered) jauh lebih dominan dibanding pengguna kasual (casual).\n",
    "- Pengguna casual lebih sedikit dan kemungkinan hanya menggunakan layanan sesekali."
   ]
  },
  {
   "cell_type": "markdown",
   "id": "5b285a5f-bced-4b19-ae4e-8ceb333eb702",
   "metadata": {},
   "source": [
    "# Analisis Lanjutan"
   ]
  },
  {
   "cell_type": "code",
   "execution_count": 128,
   "id": "29eddee9-f27e-4488-bf0d-e92cc9d3e746",
   "metadata": {},
   "outputs": [
    {
     "name": "stdout",
     "output_type": "stream",
     "text": [
      "\n",
      "RFM Analysis:\n",
      "                     dteday       casual   registered          cnt     Recency  \\\n",
      "count                  731   731.000000   731.000000   731.000000  731.000000   \n",
      "mean   2012-01-01 00:00:00   848.176471  3656.172367  4504.348837  365.000000   \n",
      "min    2011-01-01 00:00:00     2.000000    20.000000    22.000000    0.000000   \n",
      "25%    2011-07-02 12:00:00   315.500000  2497.000000  3152.000000  182.500000   \n",
      "50%    2012-01-01 00:00:00   713.000000  3662.000000  4548.000000  365.000000   \n",
      "75%    2012-07-01 12:00:00  1096.000000  4776.500000  5956.000000  547.500000   \n",
      "max    2012-12-31 00:00:00  3410.000000  6946.000000  8714.000000  730.000000   \n",
      "std                    NaN   686.622488  1560.256377  1937.211452  211.165812   \n",
      "\n",
      "        Frequency     Monetary  \n",
      "count  731.000000   731.000000  \n",
      "mean    23.774282  4504.348837  \n",
      "min      1.000000    22.000000  \n",
      "25%     24.000000  3152.000000  \n",
      "50%     24.000000  4548.000000  \n",
      "75%     24.000000  5956.000000  \n",
      "max     24.000000  8714.000000  \n",
      "std      1.350675  1937.211452  \n"
     ]
    }
   ],
   "source": [
    "# RFM Analysis\n",
    "rfm_df = df.groupby('dteday').agg({'casual': 'sum', 'registered': 'sum', 'cnt': 'sum'}).reset_index()\n",
    "rfm_df['Recency'] = (df['dteday'].max() - rfm_df['dteday']).dt.days\n",
    "rfm_df['Frequency'] = df.groupby('dteday')['cnt'].count().values\n",
    "rfm_df['Monetary'] = rfm_df['cnt']\n",
    "print(\"\\nRFM Analysis:\\n\", rfm_df.describe())"
   ]
  },
  {
   "cell_type": "markdown",
   "id": "2d3bbfe1-1473-43b9-9066-f5965fd57885",
   "metadata": {},
   "source": [
    "# Insight\n",
    "- RFM Analysis membantu mengidentifikasi kelompok pelanggan berdasarkan kebiasaan mereka dalam menyewa sepeda.\n",
    "- Pelanggan aktif dan setia bisa diberikan reward, sedangkan pelanggan yang sudah lama tidak aktif bisa diberikan penawaran khusus untuk kembali menggunakan layanan."
   ]
  },
  {
   "cell_type": "markdown",
   "id": "14ec89e9-3865-41d9-8e9e-dd9b5dc08154",
   "metadata": {},
   "source": [
    "# Conclusion"
   ]
  },
  {
   "cell_type": "markdown",
   "id": "cd1654d0-bc3f-42a7-956c-fe4ef91c1438",
   "metadata": {
    "scrolled": true
   },
   "source": [
    "- Peminjaman sepeda tertinggi terjadi pada jam sibuk pagi (07:00-09:00) dan sore (17:00-19:00).\n",
    "- Pengguna terdaftar (registered) lebih banyak dibanding pengguna kasual (casual).\n",
    "- Analisis RFM menunjukkan bahwa sebagian besar pelanggan cukup aktif, namun ada beberapa yang jarang menggunakan layanan."
   ]
  },
  {
   "cell_type": "code",
   "execution_count": 133,
   "id": "000d2626-9c56-4440-916b-b0cabddf2356",
   "metadata": {},
   "outputs": [],
   "source": [
    "# Simpan dataset ke all_data.csv\n",
    "df.to_csv(\"dashboard/all_data.csv\", index=False)"
   ]
  }
 ],
 "metadata": {
  "kernelspec": {
   "display_name": "Python [conda env:base] *",
   "language": "python",
   "name": "conda-base-py"
  },
  "language_info": {
   "codemirror_mode": {
    "name": "ipython",
    "version": 3
   },
   "file_extension": ".py",
   "mimetype": "text/x-python",
   "name": "python",
   "nbconvert_exporter": "python",
   "pygments_lexer": "ipython3",
   "version": "3.12.7"
  }
 },
 "nbformat": 4,
 "nbformat_minor": 5
}
